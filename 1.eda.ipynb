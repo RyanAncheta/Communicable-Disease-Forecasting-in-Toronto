{
 "cells": [
  {
   "cell_type": "markdown",
   "metadata": {},
   "source": [
    "## Exploratory Data Analysis (EDA) of Forecasting the Number of Cases of the Top 5 Communicable Diseases in Toronto for the Remaining Months of 2024\n",
    "\n"
   ]
  },
  {
   "cell_type": "code",
   "execution_count": 1,
   "metadata": {},
   "outputs": [],
   "source": [
    "import matplotlib.pyplot as plt\n",
    "import numpy as np\n",
    "import pandas as pd\n"
   ]
  },
  {
   "cell_type": "code",
   "execution_count": 2,
   "metadata": {},
   "outputs": [],
   "source": [
    "data = pd.read_csv(\"Communicable disease surveillance data 2017-2024.csv\")"
   ]
  },
  {
   "cell_type": "markdown",
   "metadata": {},
   "source": [
    "### The purpose of this notebok is to perform exploratory data analysis on the dataset to gain a valuable insights into the dataset that will help us in our forecasting. ###"
   ]
  },
  {
   "cell_type": "code",
   "execution_count": 3,
   "metadata": {},
   "outputs": [
    {
     "data": {
      "text/html": [
       "<div>\n",
       "<style scoped>\n",
       "    .dataframe tbody tr th:only-of-type {\n",
       "        vertical-align: middle;\n",
       "    }\n",
       "\n",
       "    .dataframe tbody tr th {\n",
       "        vertical-align: top;\n",
       "    }\n",
       "\n",
       "    .dataframe thead th {\n",
       "        text-align: right;\n",
       "    }\n",
       "</style>\n",
       "<table border=\"1\" class=\"dataframe\">\n",
       "  <thead>\n",
       "    <tr style=\"text-align: right;\">\n",
       "      <th></th>\n",
       "      <th>Disease</th>\n",
       "      <th>YTD Cases</th>\n",
       "      <th>January</th>\n",
       "      <th>February</th>\n",
       "      <th>March</th>\n",
       "      <th>April</th>\n",
       "      <th>May</th>\n",
       "      <th>June</th>\n",
       "      <th>July</th>\n",
       "      <th>August</th>\n",
       "      <th>September</th>\n",
       "      <th>October</th>\n",
       "      <th>November</th>\n",
       "      <th>December</th>\n",
       "      <th>Year</th>\n",
       "      <th>MOT</th>\n",
       "    </tr>\n",
       "  </thead>\n",
       "  <tbody>\n",
       "    <tr>\n",
       "      <th>0</th>\n",
       "      <td>AIDS</td>\n",
       "      <td>17</td>\n",
       "      <td>2</td>\n",
       "      <td>1</td>\n",
       "      <td>2</td>\n",
       "      <td>1</td>\n",
       "      <td>5</td>\n",
       "      <td>2</td>\n",
       "      <td>3</td>\n",
       "      <td>1</td>\n",
       "      <td>0</td>\n",
       "      <td>0</td>\n",
       "      <td>0</td>\n",
       "      <td>0</td>\n",
       "      <td>2023</td>\n",
       "      <td>Sexually Transmitted and Bloodborne</td>\n",
       "    </tr>\n",
       "    <tr>\n",
       "      <th>1</th>\n",
       "      <td>HIV</td>\n",
       "      <td>732</td>\n",
       "      <td>56</td>\n",
       "      <td>54</td>\n",
       "      <td>55</td>\n",
       "      <td>47</td>\n",
       "      <td>75</td>\n",
       "      <td>70</td>\n",
       "      <td>71</td>\n",
       "      <td>71</td>\n",
       "      <td>47</td>\n",
       "      <td>78</td>\n",
       "      <td>60</td>\n",
       "      <td>48</td>\n",
       "      <td>2023</td>\n",
       "      <td>Sexually Transmitted and Bloodborne</td>\n",
       "    </tr>\n",
       "    <tr>\n",
       "      <th>2</th>\n",
       "      <td>Chlamydia</td>\n",
       "      <td>10,926</td>\n",
       "      <td>1,018</td>\n",
       "      <td>881</td>\n",
       "      <td>1,131</td>\n",
       "      <td>1,011</td>\n",
       "      <td>1,150</td>\n",
       "      <td>1,310</td>\n",
       "      <td>1,289</td>\n",
       "      <td>1,310</td>\n",
       "      <td>549</td>\n",
       "      <td>428</td>\n",
       "      <td>478</td>\n",
       "      <td>371</td>\n",
       "      <td>2023</td>\n",
       "      <td>Sexually Transmitted and Bloodborne</td>\n",
       "    </tr>\n",
       "    <tr>\n",
       "      <th>3</th>\n",
       "      <td>Chancroid</td>\n",
       "      <td>0</td>\n",
       "      <td>0</td>\n",
       "      <td>0</td>\n",
       "      <td>0</td>\n",
       "      <td>0</td>\n",
       "      <td>0</td>\n",
       "      <td>0</td>\n",
       "      <td>0</td>\n",
       "      <td>0</td>\n",
       "      <td>0</td>\n",
       "      <td>0</td>\n",
       "      <td>0</td>\n",
       "      <td>0</td>\n",
       "      <td>2023</td>\n",
       "      <td>Sexually Transmitted and Bloodborne</td>\n",
       "    </tr>\n",
       "    <tr>\n",
       "      <th>4</th>\n",
       "      <td>Gonorrhea</td>\n",
       "      <td>7,215</td>\n",
       "      <td>484</td>\n",
       "      <td>433</td>\n",
       "      <td>524</td>\n",
       "      <td>456</td>\n",
       "      <td>599</td>\n",
       "      <td>694</td>\n",
       "      <td>724</td>\n",
       "      <td>697</td>\n",
       "      <td>697</td>\n",
       "      <td>672</td>\n",
       "      <td>680</td>\n",
       "      <td>555</td>\n",
       "      <td>2023</td>\n",
       "      <td>Sexually Transmitted and Bloodborne</td>\n",
       "    </tr>\n",
       "    <tr>\n",
       "      <th>...</th>\n",
       "      <td>...</td>\n",
       "      <td>...</td>\n",
       "      <td>...</td>\n",
       "      <td>...</td>\n",
       "      <td>...</td>\n",
       "      <td>...</td>\n",
       "      <td>...</td>\n",
       "      <td>...</td>\n",
       "      <td>...</td>\n",
       "      <td>...</td>\n",
       "      <td>...</td>\n",
       "      <td>...</td>\n",
       "      <td>...</td>\n",
       "      <td>...</td>\n",
       "      <td>...</td>\n",
       "      <td>...</td>\n",
       "    </tr>\n",
       "    <tr>\n",
       "      <th>561</th>\n",
       "      <td>Encephalitis/Meningitis - other</td>\n",
       "      <td>0</td>\n",
       "      <td>0</td>\n",
       "      <td>0</td>\n",
       "      <td>0</td>\n",
       "      <td>0</td>\n",
       "      <td>0</td>\n",
       "      <td>0</td>\n",
       "      <td>0</td>\n",
       "      <td>0</td>\n",
       "      <td>0</td>\n",
       "      <td>0</td>\n",
       "      <td>0</td>\n",
       "      <td>0</td>\n",
       "      <td>2022</td>\n",
       "      <td>Encephalitis/Meningitis</td>\n",
       "    </tr>\n",
       "    <tr>\n",
       "      <th>562</th>\n",
       "      <td>Encephalitis/Meningitis - unknown</td>\n",
       "      <td>0</td>\n",
       "      <td>0</td>\n",
       "      <td>0</td>\n",
       "      <td>0</td>\n",
       "      <td>0</td>\n",
       "      <td>0</td>\n",
       "      <td>0</td>\n",
       "      <td>0</td>\n",
       "      <td>0</td>\n",
       "      <td>0</td>\n",
       "      <td>0</td>\n",
       "      <td>0</td>\n",
       "      <td>0</td>\n",
       "      <td>2022</td>\n",
       "      <td>Encephalitis/Meningitis</td>\n",
       "    </tr>\n",
       "    <tr>\n",
       "      <th>563</th>\n",
       "      <td>Gastroenteritis</td>\n",
       "      <td>164</td>\n",
       "      <td>1</td>\n",
       "      <td>16</td>\n",
       "      <td>43</td>\n",
       "      <td>31</td>\n",
       "      <td>15</td>\n",
       "      <td>5</td>\n",
       "      <td>9</td>\n",
       "      <td>3</td>\n",
       "      <td>9</td>\n",
       "      <td>5</td>\n",
       "      <td>8</td>\n",
       "      <td>19</td>\n",
       "      <td>2022</td>\n",
       "      <td>Outbreaks</td>\n",
       "    </tr>\n",
       "    <tr>\n",
       "      <th>564</th>\n",
       "      <td>Respiratory Infection</td>\n",
       "      <td>1,303</td>\n",
       "      <td>183</td>\n",
       "      <td>34</td>\n",
       "      <td>60</td>\n",
       "      <td>128</td>\n",
       "      <td>102</td>\n",
       "      <td>58</td>\n",
       "      <td>152</td>\n",
       "      <td>97</td>\n",
       "      <td>84</td>\n",
       "      <td>132</td>\n",
       "      <td>138</td>\n",
       "      <td>135</td>\n",
       "      <td>2022</td>\n",
       "      <td>Outbreaks</td>\n",
       "    </tr>\n",
       "    <tr>\n",
       "      <th>565</th>\n",
       "      <td>Other</td>\n",
       "      <td>3</td>\n",
       "      <td>0</td>\n",
       "      <td>0</td>\n",
       "      <td>0</td>\n",
       "      <td>0</td>\n",
       "      <td>0</td>\n",
       "      <td>0</td>\n",
       "      <td>1</td>\n",
       "      <td>0</td>\n",
       "      <td>0</td>\n",
       "      <td>0</td>\n",
       "      <td>0</td>\n",
       "      <td>2</td>\n",
       "      <td>2022</td>\n",
       "      <td>Outbreaks</td>\n",
       "    </tr>\n",
       "  </tbody>\n",
       "</table>\n",
       "<p>566 rows × 16 columns</p>\n",
       "</div>"
      ],
      "text/plain": [
       "                               Disease YTD Cases January February  March  \\\n",
       "0                                 AIDS        17       2        1      2   \n",
       "1                                 HIV        732      56       54     55   \n",
       "2                            Chlamydia    10,926   1,018      881  1,131   \n",
       "3                            Chancroid         0       0        0      0   \n",
       "4                            Gonorrhea     7,215     484      433    524   \n",
       "..                                 ...       ...     ...      ...    ...   \n",
       "561    Encephalitis/Meningitis - other         0       0        0      0   \n",
       "562  Encephalitis/Meningitis - unknown         0       0        0      0   \n",
       "563                    Gastroenteritis       164       1       16     43   \n",
       "564              Respiratory Infection     1,303     183       34     60   \n",
       "565                              Other         3       0        0      0   \n",
       "\n",
       "     April    May   June   July August September October November December  \\\n",
       "0        1      5      2      3      1         0       0        0        0   \n",
       "1       47     75     70     71     71        47      78       60       48   \n",
       "2    1,011  1,150  1,310  1,289  1,310       549     428      478      371   \n",
       "3        0      0      0      0      0         0       0        0        0   \n",
       "4      456    599    694    724    697       697     672      680      555   \n",
       "..     ...    ...    ...    ...    ...       ...     ...      ...      ...   \n",
       "561      0      0      0      0      0         0       0        0        0   \n",
       "562      0      0      0      0      0         0       0        0        0   \n",
       "563     31     15      5      9      3         9       5        8       19   \n",
       "564    128    102     58    152     97        84     132      138      135   \n",
       "565      0      0      0      1      0         0       0        0        2   \n",
       "\n",
       "     Year                                  MOT  \n",
       "0    2023  Sexually Transmitted and Bloodborne  \n",
       "1    2023  Sexually Transmitted and Bloodborne  \n",
       "2    2023  Sexually Transmitted and Bloodborne  \n",
       "3    2023  Sexually Transmitted and Bloodborne  \n",
       "4    2023  Sexually Transmitted and Bloodborne  \n",
       "..    ...                                  ...  \n",
       "561  2022              Encephalitis/Meningitis  \n",
       "562  2022              Encephalitis/Meningitis  \n",
       "563  2022                            Outbreaks  \n",
       "564  2022                            Outbreaks  \n",
       "565  2022                            Outbreaks  \n",
       "\n",
       "[566 rows x 16 columns]"
      ]
     },
     "execution_count": 3,
     "metadata": {},
     "output_type": "execute_result"
    }
   ],
   "source": [
    "data"
   ]
  },
  {
   "cell_type": "markdown",
   "metadata": {},
   "source": [
    "### We also need to see if our data and clean and can be suitable for time series forecasting. ###"
   ]
  },
  {
   "cell_type": "code",
   "execution_count": 4,
   "metadata": {},
   "outputs": [
    {
     "data": {
      "text/plain": [
       "Disease       0\n",
       "YTD Cases     0\n",
       "January       0\n",
       "February      0\n",
       "March         0\n",
       "April        74\n",
       "May          74\n",
       "June         74\n",
       "July         74\n",
       "August       74\n",
       "September    74\n",
       "October      74\n",
       "November     74\n",
       "December     75\n",
       "Year          0\n",
       "MOT           0\n",
       "dtype: int64"
      ]
     },
     "execution_count": 4,
     "metadata": {},
     "output_type": "execute_result"
    }
   ],
   "source": [
    "data.isnull().sum()"
   ]
  },
  {
   "cell_type": "markdown",
   "metadata": {},
   "source": [
    "### So the null values above is from the year 2024 because our data for year 2024 only has January to March 2024  ###"
   ]
  },
  {
   "cell_type": "code",
   "execution_count": 5,
   "metadata": {},
   "outputs": [],
   "source": [
    "data.fillna(0,inplace=True)"
   ]
  },
  {
   "cell_type": "markdown",
   "metadata": {},
   "source": [
    "### Our data set is not clean because the data type for the monthly columns are object so we need to convert them to int so we can do some analysis ###"
   ]
  },
  {
   "cell_type": "code",
   "execution_count": 6,
   "metadata": {},
   "outputs": [
    {
     "data": {
      "text/plain": [
       "Disease      object\n",
       "YTD Cases    object\n",
       "January      object\n",
       "February     object\n",
       "March        object\n",
       "April        object\n",
       "May          object\n",
       "June         object\n",
       "July         object\n",
       "August       object\n",
       "September    object\n",
       "October      object\n",
       "November     object\n",
       "December     object\n",
       "Year          int64\n",
       "MOT          object\n",
       "dtype: object"
      ]
     },
     "execution_count": 6,
     "metadata": {},
     "output_type": "execute_result"
    }
   ],
   "source": [
    "data.dtypes"
   ]
  },
  {
   "cell_type": "code",
   "execution_count": 7,
   "metadata": {},
   "outputs": [],
   "source": [
    "columns_to_convert = ['YTD Cases', 'January', 'February', 'March', 'April', 'May', 'June', 'July', 'August', 'September', 'October', 'November', 'December']\n",
    "data[columns_to_convert] = data[columns_to_convert].replace({',': '', '' '-': '0'}, regex=True).fillna('0').astype(int)"
   ]
  },
  {
   "cell_type": "code",
   "execution_count": 8,
   "metadata": {},
   "outputs": [],
   "source": [
    "monthly_columns = ['January', 'February', 'March', 'April', 'May', 'June', 'July', 'August', 'September', 'October', 'November', 'December']\n",
    "monthly_cases = data[monthly_columns].mean()"
   ]
  },
  {
   "cell_type": "markdown",
   "metadata": {},
   "source": [
    "### Now that we have a cleaned data set we can now extract the top 6 disease with the highest number of cases in 2024 ###"
   ]
  },
  {
   "cell_type": "code",
   "execution_count": 10,
   "metadata": {},
   "outputs": [
    {
     "data": {
      "image/png": "[encoded data removed]",
      "text/plain": [
       "<Figure size 1200x600 with 1 Axes>"
      ]
     },
     "metadata": {},
     "output_type": "display_data"
    }
   ],
   "source": [
    "data_2024 = data[data['Year'] == 2024]\n",
    "data_2024\n",
    "\n",
    "top_5_diseases_2024 = data_2024.nlargest(5, 'YTD Cases')\n",
    "\n",
    "plt.figure(figsize=(12, 6))\n",
    "plt.bar(top_5_diseases_2024['Disease'], top_5_diseases_2024['YTD Cases'])\n",
    "plt.title('Top 6 Diseases by YTD Cases in 2024')\n",
    "plt.xlabel('Disease')\n",
    "plt.ylabel('YTD Cases')\n",
    "plt.show()"
   ]
  },
  {
   "cell_type": "markdown",
   "metadata": {},
   "source": [
    "### The visualization above shows the top 5 diseases by YTD (Year-To-Date) cases in 2024. You might be wondering why we are only displaying the top 6 diseases for the year 2024 and not the whole dataset. The main reason for this is that the primary goal of this project is to forecast the number of cases for the year 2024. By focusing on the diseases with the highest number of cases in just the first three months of the year (January-March), we can identify which diseases have the highest potential for an outbreak "
   ]
  },
  {
   "cell_type": "code",
   "execution_count": null,
   "metadata": {},
   "outputs": [],
   "source": []
  }
 ],
 "metadata": {
  "kernelspec": {
   "display_name": "base",
   "language": "python",
   "name": "python3"
  },
  "language_info": {
   "codemirror_mode": {
    "name": "ipython",
    "version": 3
   },
   "file_extension": ".py",
   "mimetype": "text/x-python",
   "name": "python",
   "nbconvert_exporter": "python",
   "pygments_lexer": "ipython3",
   "version": "3.11.4"
  }
 },
 "nbformat": 4,
 "nbformat_minor": 2
}
